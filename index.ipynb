{
 "cells": [
  {
   "cell_type": "markdown",
   "metadata": {},
   "source": [
    "# Yelp API - Lab\n",
    "\n",
    "\n",
    "## Introduction \n",
    "\n",
    "We've seen how the Yelp API works and how to create basic visualizations using Folium. It's time to put those skills to work in order to create a working map! Taking things a step further, you'll also independently explore how to perform pagination in order to retrieve a full results set from the Yelp API!\n",
    "\n",
    "## Objectives\n",
    "\n",
    "You will be able to: \n",
    "\n",
    "* Using pagination and multiple functions, gather large amounts of data from an API, parse the data and make sense of it with meaningful analysis\n",
    "* Create maps using Folium\n",
    "\n",
    "## Problem Introduction\n",
    "\n",
    "You've now worked with some API calls, but we have yet to see how to retrieve a more complete dataset in a programmatic manner. Returning to the Yelp API, the [documentation](https://www.yelp.com/developers/documentation/v3/business_search) also provides us details regarding the API limits. These often include details about the number of requests a user is allowed to make within a specified time limit and the maximum number of results to be returned. In this case, we are told that any request has a maximum of 50 results per request and defaults to 20. Furthermore, any search will be limited to a total of 1000 results. To retrieve all 1000 of these results, we would have to page through the results piece by piece, retrieving 50 at a time. Processes such as these are often referred to as pagination.\n",
    "\n",
    "In this lab, you will define a search and then paginate over the results to retrieve all of the results. You'll then parse these responses as a DataFrame (for further exploration) and create a map using Folium to visualize the results geographically.\n",
    "\n",
    "## Part I - Make the Initial Request\n",
    "\n",
    "Start by making an initial request to the Yelp API. Your search must include at least 2 parameters: **term** and **location**. For example, you might search for pizza restaurants in NYC. The term and location is up to you but make the request below."
   ]
  },
  {
   "cell_type": "code",
   "execution_count": 40,
   "metadata": {},
   "outputs": [],
   "source": [
    "#import libraies used\n",
    "import requests\n",
    "import json\n",
    "import pandas as pd"
   ]
  },
  {
   "cell_type": "code",
   "execution_count": 41,
   "metadata": {},
   "outputs": [],
   "source": [
    "#function to get api key \n",
    "def get_keys(path):\n",
    "    with open(path) as f:\n",
    "        return json.load(f)"
   ]
  },
  {
   "cell_type": "code",
   "execution_count": 42,
   "metadata": {},
   "outputs": [],
   "source": [
    "#import dictionary containing API key\n",
    "keys = get_keys(\"/Users/brentsair/.secret/yelp_api.json\")\n",
    "\n",
    "#access key from dictionary\n",
    "api_key = keys['api_key']"
   ]
  },
  {
   "cell_type": "code",
   "execution_count": 50,
   "metadata": {},
   "outputs": [
    {
     "name": "stdout",
     "output_type": "stream",
     "text": [
      "<Response [200]>\n",
      "<class 'str'>\n",
      "{\"businesses\": [{\"id\": \"-FOAQv22SXtSBs7nptI3UA\", \"alias\": \"serious-pie-seattle\", \"name\": \"Serious Pie\", \"image_url\": \"https://s3-media3.fl.yelpcdn.com/bphoto/K5cPEhf5ZLkujN73bBNleQ/o.jpg\", \"is_closed\": false, \"url\": \"https://www.yelp.com/biz/serious-pie-seattle?adjust_creative=OCjU-NiCrYlVSMLPHg0bdA&utm_campaign=yelp_api_v3&utm_medium=api_v3_business_search&utm_source=OCjU-NiCrYlVSMLPHg0bdA\", \"review_count\": 4070, \"categories\": [{\"alias\": \"pizza\", \"title\": \"Pizza\"}], \"rating\": 4.0, \"coordinates\": {\"latitude\": 47.61296, \"longitude\": -122.34047}, \"transactions\": [], \"price\": \"$$\", \"location\": {\"address1\": \"316 Virginia St\", \"address2\": null, \"address3\": \"\", \"city\": \"Seattle\", \"zip_code\": \"98121\", \"country\": \"US\", \"state\": \"WA\", \"display_address\": [\"316 Virginia St\", \"Seattle, WA 98121\"]}, \"phone\": \"+12068387388\", \"display_phone\": \"(206) 838-7388\", \"distance\": 1443.3390452329982}, {\"id\": \"6I28wDuMBR5WLMqfKxaoeg\", \"alias\": \"pike-place-chowder-seattle\", \"name\": \"Pike Place Chowder\", \"image_\n"
     ]
    }
   ],
   "source": [
    "term = 'gluten free'\n",
    "location = 'Seattle'\n",
    "SEARCH_LIMIT = 1\n",
    "offset = 50\n",
    "url = 'https://api.yelp.com/v3/businesses/search'\n",
    "\n",
    "headers = {\n",
    "        'Authorization': 'Bearer {}'.format(api_key),\n",
    "    }\n",
    "\n",
    "url_params = {\n",
    "                'term': term.replace(' ', '+'),\n",
    "                'location': location.replace(' ', '+'),\n",
    "                'limit':SEARCH_LIMIT,\n",
    "                'offset':offset\n",
    "            }\n",
    "response = requests.get(url, headers=headers, params=url_params)\n",
    "print(response)\n",
    "print(type(response.text))\n",
    "print(response.text[:1000])"
   ]
  },
  {
   "cell_type": "code",
   "execution_count": null,
   "metadata": {},
   "outputs": [],
   "source": []
  },
  {
   "cell_type": "markdown",
   "metadata": {},
   "source": [
    "## Pagination\n",
    "\n",
    "Now that you have an initial response, you can examine the contents of the JSON container. For example, you might start with ```response.json().keys()```. Here, you'll see a key for `'total'`, which tells you the full number of matching results given your query parameters. Write a loop (or ideally a function) which then makes successive API calls using the offset parameter to retrieve all of the results (or 5000 for a particularly large result set) for the original query. As you do this, be mindful of how you store the data. Your final goal will be to reformat the data concerning the businesses themselves into a pandas DataFrame from the json objects.\n",
    "\n",
    "**Note: be mindful of the API rate limits. You can only make 5000 requests per day and are also can make requests too fast. Start prototyping small before running a loop that could be faulty. You can also use time.sleep(n) to add delays. For more details see https://www.yelp.com/developers/documentation/v3/rate_limiting.**"
   ]
  },
  {
   "cell_type": "code",
   "execution_count": 60,
   "metadata": {},
   "outputs": [
    {
     "data": {
      "text/plain": [
       "1"
      ]
     },
     "execution_count": 60,
     "metadata": {},
     "output_type": "execute_result"
    }
   ],
   "source": [
    "# Your code here; use a function or loop to retrieve all the results from your original r"
   ]
  },
  {
   "cell_type": "code",
   "execution_count": 169,
   "metadata": {},
   "outputs": [
    {
     "data": {
      "text/plain": [
       "{'businesses': [{'id': 'oZQwAojMr5N-VBxPTaE9yQ',\n",
       "   'alias': 'i-love-my-gff-seattle-3',\n",
       "   'name': 'I Love My GFF',\n",
       "   'image_url': 'https://s3-media3.fl.yelpcdn.com/bphoto/q2TjDCaEyAS7ZTb70zhNjw/o.jpg',\n",
       "   'is_closed': False,\n",
       "   'url': 'https://www.yelp.com/biz/i-love-my-gff-seattle-3?adjust_creative=OCjU-NiCrYlVSMLPHg0bdA&utm_campaign=yelp_api_v3&utm_medium=api_v3_business_search&utm_source=OCjU-NiCrYlVSMLPHg0bdA',\n",
       "   'review_count': 91,\n",
       "   'categories': [{'alias': 'gluten_free', 'title': 'Gluten-Free'},\n",
       "    {'alias': 'vegetarian', 'title': 'Vegetarian'},\n",
       "    {'alias': 'foodstands', 'title': 'Food Stands'}],\n",
       "   'rating': 4.5,\n",
       "   'coordinates': {'latitude': 47.6243996044122,\n",
       "    'longitude': -122.336994657105},\n",
       "   'transactions': ['pickup', 'delivery'],\n",
       "   'price': '$',\n",
       "   'location': {'address1': '592 Terry Ave N',\n",
       "    'address2': None,\n",
       "    'address3': '',\n",
       "    'city': 'Seattle',\n",
       "    'zip_code': '98109',\n",
       "    'country': 'US',\n",
       "    'state': 'WA',\n",
       "    'display_address': ['592 Terry Ave N', 'Seattle, WA 98109']},\n",
       "   'phone': '',\n",
       "   'display_phone': '',\n",
       "   'distance': 158.8251304017265}],\n",
       " 'total': 3500,\n",
       " 'region': {'center': {'longitude': -122.33551025390625,\n",
       "   'latitude': 47.62541904760501}}}"
      ]
     },
     "execution_count": 169,
     "metadata": {},
     "output_type": "execute_result"
    }
   ],
   "source": [
    "def Yelp_api(search_limit, num_of_requests, location, offset, term):\n",
    "    list_of_responses=[]\n",
    "    for request in range(num_of_requests):\n",
    "        url_params = {\n",
    "                'term': term.replace(' ', '+'),\n",
    "                'location': location.replace(' ', '+'),\n",
    "                'limit':search_limit,\n",
    "                'offset':request*offset\n",
    "            }\n",
    "        response = requests.get(url, headers=headers, params=url_params)\n",
    "        if response.status_code == 200:\n",
    "            response_dict = response.json()\n",
    "            list_of_responses.append(response_dict)\n",
    "            \n",
    "        else:\n",
    "            print(\"Error: unable to retrieve hits.  Server responded with status code\", response.status_code)\n",
    "    return list_of_responses\n",
    "    \n",
    "test = Yelp_api(1, 6, 'Seattle', 50, 'gluten free')    \n",
    "test[0]"
   ]
  },
  {
   "cell_type": "markdown",
   "metadata": {},
   "source": [
    "## Exploratory Analysis\n",
    "\n",
    "Take the restaurants from the previous question and do an initial exploratory analysis. At minimum, this should include looking at the distribution of features such as price, rating and number of reviews as well as the relations between these dimensions."
   ]
  },
  {
   "cell_type": "code",
   "execution_count": 164,
   "metadata": {},
   "outputs": [
    {
     "data": {
      "text/html": [
       "<div>\n",
       "<style scoped>\n",
       "    .dataframe tbody tr th:only-of-type {\n",
       "        vertical-align: middle;\n",
       "    }\n",
       "\n",
       "    .dataframe tbody tr th {\n",
       "        vertical-align: top;\n",
       "    }\n",
       "\n",
       "    .dataframe thead th {\n",
       "        text-align: right;\n",
       "    }\n",
       "</style>\n",
       "<table border=\"1\" class=\"dataframe\">\n",
       "  <thead>\n",
       "    <tr style=\"text-align: right;\">\n",
       "      <th></th>\n",
       "      <th>0</th>\n",
       "    </tr>\n",
       "  </thead>\n",
       "  <tbody>\n",
       "    <tr>\n",
       "      <th>0</th>\n",
       "      <td>businesses</td>\n",
       "    </tr>\n",
       "    <tr>\n",
       "      <th>1</th>\n",
       "      <td>total</td>\n",
       "    </tr>\n",
       "    <tr>\n",
       "      <th>2</th>\n",
       "      <td>region</td>\n",
       "    </tr>\n",
       "    <tr>\n",
       "      <th>3</th>\n",
       "      <td>businesses</td>\n",
       "    </tr>\n",
       "    <tr>\n",
       "      <th>4</th>\n",
       "      <td>total</td>\n",
       "    </tr>\n",
       "  </tbody>\n",
       "</table>\n",
       "</div>"
      ],
      "text/plain": [
       "            0\n",
       "0  businesses\n",
       "1       total\n",
       "2      region\n",
       "3  businesses\n",
       "4       total"
      ]
     },
     "execution_count": 164,
     "metadata": {},
     "output_type": "execute_result"
    }
   ],
   "source": [
    "# Your code here\n",
    "# len(list_of_responses)\n",
    "# df = pd.DataFrame(list_of_responses)\n",
    "\n",
    "df = pd.DataFrame(test)\n",
    "\n",
    "df.head()"
   ]
  },
  {
   "cell_type": "code",
   "execution_count": 155,
   "metadata": {},
   "outputs": [
    {
     "ename": "TypeError",
     "evalue": "'DataFrame' object is not callable",
     "output_type": "error",
     "traceback": [
      "\u001b[0;31m---------------------------------------------------------------------------\u001b[0m",
      "\u001b[0;31mTypeError\u001b[0m                                 Traceback (most recent call last)",
      "\u001b[0;32m<ipython-input-155-86f0240614a7>\u001b[0m in \u001b[0;36m<module>\u001b[0;34m\u001b[0m\n\u001b[1;32m      2\u001b[0m \u001b[0;32mfor\u001b[0m \u001b[0mi\u001b[0m \u001b[0;32min\u001b[0m \u001b[0mrange\u001b[0m\u001b[0;34m(\u001b[0m\u001b[0mlen\u001b[0m\u001b[0;34m(\u001b[0m\u001b[0mdf\u001b[0m\u001b[0;34m.\u001b[0m\u001b[0mbusinesses\u001b[0m\u001b[0;34m)\u001b[0m\u001b[0;34m)\u001b[0m\u001b[0;34m:\u001b[0m\u001b[0;34m\u001b[0m\u001b[0;34m\u001b[0m\u001b[0m\n\u001b[1;32m      3\u001b[0m     \u001b[0mdf_updated\u001b[0m \u001b[0;34m=\u001b[0m \u001b[0mdf_updated\u001b[0m\u001b[0;34m.\u001b[0m\u001b[0mappend\u001b[0m\u001b[0;34m(\u001b[0m\u001b[0mdf\u001b[0m\u001b[0;34m.\u001b[0m\u001b[0mbusinesses\u001b[0m\u001b[0;34m[\u001b[0m\u001b[0mi\u001b[0m\u001b[0;34m]\u001b[0m\u001b[0;34m)\u001b[0m\u001b[0;34m\u001b[0m\u001b[0;34m\u001b[0m\u001b[0m\n\u001b[0;32m----> 4\u001b[0;31m \u001b[0mdf_updated\u001b[0m\u001b[0;34m(\u001b[0m\u001b[0;34m)\u001b[0m\u001b[0;34m\u001b[0m\u001b[0;34m\u001b[0m\u001b[0m\n\u001b[0m",
      "\u001b[0;31mTypeError\u001b[0m: 'DataFrame' object is not callable"
     ]
    }
   ],
   "source": [
    "df_updated = pd.DataFrame([])\n",
    "for i in range(len(df.businesses)):\n",
    "    df_updated = df_updated.append(df.businesses[i])\n",
    "df_updated()"
   ]
  },
  {
   "cell_type": "markdown",
   "metadata": {},
   "source": [
    "## Mapping\n",
    "\n",
    "Look at the initial Yelp example and try and make a map using Folium of the restaurants you retrieved. Be sure to also add popups to the markers giving some basic information such as name, rating and price."
   ]
  },
  {
   "cell_type": "code",
   "execution_count": 149,
   "metadata": {},
   "outputs": [
    {
     "data": {
      "text/html": [
       "<div>\n",
       "<style scoped>\n",
       "    .dataframe tbody tr th:only-of-type {\n",
       "        vertical-align: middle;\n",
       "    }\n",
       "\n",
       "    .dataframe tbody tr th {\n",
       "        vertical-align: top;\n",
       "    }\n",
       "\n",
       "    .dataframe thead th {\n",
       "        text-align: right;\n",
       "    }\n",
       "</style>\n",
       "<table border=\"1\" class=\"dataframe\">\n",
       "  <thead>\n",
       "    <tr style=\"text-align: right;\">\n",
       "      <th></th>\n",
       "      <th>id</th>\n",
       "      <th>alias</th>\n",
       "      <th>name</th>\n",
       "      <th>image_url</th>\n",
       "      <th>is_closed</th>\n",
       "      <th>url</th>\n",
       "      <th>review_count</th>\n",
       "      <th>categories</th>\n",
       "      <th>rating</th>\n",
       "      <th>coordinates</th>\n",
       "      <th>transactions</th>\n",
       "      <th>price</th>\n",
       "      <th>location</th>\n",
       "      <th>phone</th>\n",
       "      <th>display_phone</th>\n",
       "      <th>distance</th>\n",
       "    </tr>\n",
       "  </thead>\n",
       "  <tbody>\n",
       "    <tr>\n",
       "      <th>0</th>\n",
       "      <td>oZQwAojMr5N-VBxPTaE9yQ</td>\n",
       "      <td>i-love-my-gff-seattle-3</td>\n",
       "      <td>I Love My GFF</td>\n",
       "      <td>https://s3-media3.fl.yelpcdn.com/bphoto/q2TjDC...</td>\n",
       "      <td>False</td>\n",
       "      <td>https://www.yelp.com/biz/i-love-my-gff-seattle...</td>\n",
       "      <td>91</td>\n",
       "      <td>[{'alias': 'gluten_free', 'title': 'Gluten-Fre...</td>\n",
       "      <td>4.5</td>\n",
       "      <td>{'latitude': 47.6243996044122, 'longitude': -1...</td>\n",
       "      <td>[pickup, delivery]</td>\n",
       "      <td>$</td>\n",
       "      <td>{'address1': '592 Terry Ave N', 'address2': No...</td>\n",
       "      <td></td>\n",
       "      <td></td>\n",
       "      <td>158.825130</td>\n",
       "    </tr>\n",
       "    <tr>\n",
       "      <th>0</th>\n",
       "      <td>Wm0soYlpuNJ8muQgckmrng</td>\n",
       "      <td>cask-and-trotter-seattle-2</td>\n",
       "      <td>Cask &amp; Trotter</td>\n",
       "      <td>https://s3-media2.fl.yelpcdn.com/bphoto/iEvZd5...</td>\n",
       "      <td>False</td>\n",
       "      <td>https://www.yelp.com/biz/cask-and-trotter-seat...</td>\n",
       "      <td>546</td>\n",
       "      <td>[{'alias': 'bbq', 'title': 'Barbeque'}, {'alia...</td>\n",
       "      <td>4.0</td>\n",
       "      <td>{'latitude': 47.626012, 'longitude': -122.3390...</td>\n",
       "      <td>[]</td>\n",
       "      <td>$$</td>\n",
       "      <td>{'address1': '711 Westlake Ave N', 'address2':...</td>\n",
       "      <td>+12064534756</td>\n",
       "      <td>(206) 453-4756</td>\n",
       "      <td>269.951664</td>\n",
       "    </tr>\n",
       "  </tbody>\n",
       "</table>\n",
       "</div>"
      ],
      "text/plain": [
       "                       id                       alias            name  \\\n",
       "0  oZQwAojMr5N-VBxPTaE9yQ     i-love-my-gff-seattle-3   I Love My GFF   \n",
       "0  Wm0soYlpuNJ8muQgckmrng  cask-and-trotter-seattle-2  Cask & Trotter   \n",
       "\n",
       "                                           image_url  is_closed  \\\n",
       "0  https://s3-media3.fl.yelpcdn.com/bphoto/q2TjDC...      False   \n",
       "0  https://s3-media2.fl.yelpcdn.com/bphoto/iEvZd5...      False   \n",
       "\n",
       "                                                 url  review_count  \\\n",
       "0  https://www.yelp.com/biz/i-love-my-gff-seattle...            91   \n",
       "0  https://www.yelp.com/biz/cask-and-trotter-seat...           546   \n",
       "\n",
       "                                          categories  rating  \\\n",
       "0  [{'alias': 'gluten_free', 'title': 'Gluten-Fre...     4.5   \n",
       "0  [{'alias': 'bbq', 'title': 'Barbeque'}, {'alia...     4.0   \n",
       "\n",
       "                                         coordinates        transactions  \\\n",
       "0  {'latitude': 47.6243996044122, 'longitude': -1...  [pickup, delivery]   \n",
       "0  {'latitude': 47.626012, 'longitude': -122.3390...                  []   \n",
       "\n",
       "  price                                           location         phone  \\\n",
       "0     $  {'address1': '592 Terry Ave N', 'address2': No...                 \n",
       "0    $$  {'address1': '711 Westlake Ave N', 'address2':...  +12064534756   \n",
       "\n",
       "    display_phone    distance  \n",
       "0                  158.825130  \n",
       "0  (206) 453-4756  269.951664  "
      ]
     },
     "execution_count": 149,
     "metadata": {},
     "output_type": "execute_result"
    }
   ],
   "source": [
    "# Your code here\n",
    "bee = pd.DataFrame(df.businesses[0])\n",
    "bee.head()\n",
    "bee= bee.append(df.businesses[1])\n",
    "bee.head()"
   ]
  },
  {
   "cell_type": "markdown",
   "metadata": {},
   "source": [
    "## Summary\n",
    "\n",
    "Nice work! In this lab, you've made multiple API calls to Yelp in order to paginate through a results set, performing some basic exploratory analysis and then creating a nice interactive map to display the results using Folium! Well done!"
   ]
  }
 ],
 "metadata": {
  "kernelspec": {
   "display_name": "Python 3",
   "language": "python",
   "name": "python3"
  },
  "language_info": {
   "codemirror_mode": {
    "name": "ipython",
    "version": 3
   },
   "file_extension": ".py",
   "mimetype": "text/x-python",
   "name": "python",
   "nbconvert_exporter": "python",
   "pygments_lexer": "ipython3",
   "version": "3.7.3"
  },
  "toc": {
   "base_numbering": 1,
   "nav_menu": {},
   "number_sections": true,
   "sideBar": true,
   "skip_h1_title": false,
   "title_cell": "Table of Contents",
   "title_sidebar": "Contents",
   "toc_cell": false,
   "toc_position": {},
   "toc_section_display": true,
   "toc_window_display": false
  }
 },
 "nbformat": 4,
 "nbformat_minor": 2
}
